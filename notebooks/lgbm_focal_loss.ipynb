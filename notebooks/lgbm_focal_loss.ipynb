{
 "cells": [
  {
   "cell_type": "code",
   "execution_count": null,
   "metadata": {},
   "outputs": [],
   "source": [
    "%load_ext autoreload\n",
    "%autoreload 2\n",
    "\n",
    "from sklearn.utils import shuffle\n",
    "import plotly.express as px\n",
    "\n",
    "import numpy as np\n",
    "import pandas as pd\n",
    "import pandera as pa\n",
    "pd.options.display.max_rows = 100\n",
    "pd.options.display.max_columns = 200\n",
    "\n",
    "import warnings\n",
    "warnings.filterwarnings(\"ignore\")\n",
    "\n",
    "import sys\n",
    "sys.path.append(\"../\")\n",
    "import src\n"
   ]
  },
  {
   "cell_type": "markdown",
   "metadata": {},
   "source": [
    "# Explore and Prepare Data"
   ]
  },
  {
   "cell_type": "code",
   "execution_count": null,
   "metadata": {},
   "outputs": [],
   "source": [
    "# --------------------------------\n",
    "# CREATE NEW (EMPTY) MODEL\n",
    "# --------------------------------\n",
    "model = src.ClassifierModel()"
   ]
  },
  {
   "cell_type": "code",
   "execution_count": null,
   "metadata": {},
   "outputs": [],
   "source": [
    "model.input_data = shuffle(pd.read_csv('../data/aug_train.csv'))\n",
    "model.input_data.head(5)"
   ]
  },
  {
   "cell_type": "code",
   "execution_count": null,
   "metadata": {},
   "outputs": [],
   "source": [
    "model.input_data.describe()"
   ]
  },
  {
   "cell_type": "code",
   "execution_count": null,
   "metadata": {},
   "outputs": [],
   "source": [
    "model.model_settings = {\n",
    "    'numerical_columns' : ['Age','Annual_Premium','Vintage'],\n",
    "    'categorical_columns' : ['Gender','Driving_License','Region_Code','Previously_Insured','Vehicle_Age','Policy_Sales_Channel', 'Vehicle_Damage'],\n",
    "    'id_columns' : ['id'],\n",
    "    'label_column' : ['Response']\n",
    "\n",
    "    #'nullable_columns' : ''\n",
    "    # expected dtype\n",
    "}"
   ]
  },
  {
   "cell_type": "code",
   "execution_count": null,
   "metadata": {},
   "outputs": [],
   "source": [
    "print(f\"null values for all columns:\\n----------------------- \\n{model.input_data.isna().sum()}\")"
   ]
  },
  {
   "cell_type": "code",
   "execution_count": null,
   "metadata": {},
   "outputs": [],
   "source": [
    "print(f\"categories for categorical columns \\n ------------------------------\")\n",
    "for i in model.model_settings['categorical_columns']:\n",
    "    print(f\"{i}: {model.input_data[i].unique()} \\n _____\")"
   ]
  },
  {
   "cell_type": "code",
   "execution_count": null,
   "metadata": {},
   "outputs": [],
   "source": [
    "#CREATE PANDERA INPUT SCHEMA\n",
    "input_schema = pa.DataFrameSchema({\n",
    "    \n",
    "    # ColumnName : pa.Column(pa.DataType) \n",
    "    # In case required, add new columns with this format\n",
    "\n",
    "    'id':pa.Column(pa.Int),\n",
    "\n",
    "    'Age':pa.Column(pa.Int, nullable = True),\n",
    "    'Annual_Premium':pa.Column(pa.Float, nullable = True),\n",
    "    'Vintage':pa.Column(pa.Int, nullable = True),\n",
    "\n",
    "    'Gender':pa.Column(pa.Category, nullable = True),\n",
    "    'Driving_License':pa.Column(pa.Category, nullable = True),\n",
    "    'Region_Code':pa.Column(pa.Category, nullable = True),\n",
    "    'Previously_Insured':pa.Column(pa.Category, nullable = True),\n",
    "    'Vehicle_Damage':pa.Column(pa.Category, nullable = True),\n",
    "    'Vehicle_Age':pa.Column(pa.Category, nullable = True),\n",
    "    'Policy_Sales_Channel':pa.Column(pa.Category, nullable = True),\n",
    "\n",
    "    'Response':pa.Column(pa.Int)\n",
    "},strict = True)"
   ]
  },
  {
   "cell_type": "code",
   "execution_count": null,
   "metadata": {},
   "outputs": [],
   "source": [
    "# DROP COLUMNS WITH NULLS WHERE IT CAN'T BE NULLABLE\n",
    "print(f\"orginal input shape: {model.input_data.shape}\")\n",
    "model.input_data.dropna(subset = model.model_settings['id_columns']+model.model_settings['label_column'], inplace = True)\n",
    "print(f\"input shape after dropping non-nullable nulls: {model.input_data.shape}\")"
   ]
  },
  {
   "cell_type": "code",
   "execution_count": null,
   "metadata": {},
   "outputs": [],
   "source": [
    "def fix_data_types(column: pd.DataFrame, expected_type: str)->np.array:\n",
    "    \"\"\"_summary_\n",
    "\n",
    "    Args:\n",
    "        column (pd.DataFrame): _description_\n",
    "        expected_type (str): _description_\n",
    "\n",
    "    Returns:\n",
    "        pd.DataFrame: _description_\n",
    "    \"\"\"\n",
    "\n",
    "    #ToDo_ Check if type is already as expected\n",
    "    if expected_type == 'int':\n",
    "        return column.astype(pd.core.arrays.integer.Int64Dtype()).values\n",
    "        \n",
    "    \n",
    "    elif expected_type == 'object':\n",
    "        return column.astype('object').values\n",
    "    \n",
    "    elif expected_type == 'float':\n",
    "        return column.astype('float64').values\n",
    "\n",
    "    elif expected_type == 'category':\n",
    "        try: return model.input_data['id'].astype('int').astype('category').values\n",
    "        except: return column.astype('object').astype('category').values\n",
    "\n",
    "    else: return column\n",
    "     "
   ]
  },
  {
   "cell_type": "code",
   "execution_count": null,
   "metadata": {},
   "outputs": [],
   "source": [
    "model.input_data[\"id\"] = fix_data_types(model.input_data[\"id\"], 'int')\n",
    "\n",
    "model.input_data[\"Age\"] = fix_data_types(model.input_data[\"Age\"], 'int')\n",
    "model.input_data[\"Annual_Premium\"] = fix_data_types(model.input_data[\"Annual_Premium\"], 'float')\n",
    "model.input_data[\"Vintage\"] = fix_data_types(model.input_data[\"Vintage\"], 'int')\n",
    "\n",
    "\n",
    "model.input_data[\"Gender\"] = fix_data_types(model.input_data[\"Gender\"], 'category')\n",
    "model.input_data[\"Driving_License\"] = fix_data_types(model.input_data[\"Driving_License\"], 'category')\n",
    "model.input_data[\"Region_Code\"] = fix_data_types(model.input_data[\"Region_Code\"], 'category')\n",
    "model.input_data[\"Previously_Insured\"] = fix_data_types(model.input_data[\"Previously_Insured\"], 'category')\n",
    "model.input_data[\"Vehicle_Damage\"] = fix_data_types(model.input_data[\"Vehicle_Damage\"], 'category')\n",
    "model.input_data[\"Vehicle_Age\"] = fix_data_types(model.input_data[\"Vehicle_Age\"], 'category')\n",
    "model.input_data[\"Policy_Sales_Channel\"] = fix_data_types(model.input_data[\"Policy_Sales_Channel\"], 'category')\n",
    "\n",
    "model.input_data[\"Response\"] = model.input_data['Response'].astype('int64')"
   ]
  },
  {
   "cell_type": "code",
   "execution_count": null,
   "metadata": {},
   "outputs": [],
   "source": [
    "print(f\"data types for all columns:\\n----------------------- \\n{model.input_data.dtypes}\")"
   ]
  },
  {
   "cell_type": "code",
   "execution_count": null,
   "metadata": {},
   "outputs": [],
   "source": [
    "#Validate with Pandera\n",
    "input_schema.validate(model.input_data)"
   ]
  },
  {
   "cell_type": "markdown",
   "metadata": {},
   "source": [
    "### Visualize Input Data"
   ]
  },
  {
   "cell_type": "code",
   "execution_count": null,
   "metadata": {},
   "outputs": [],
   "source": [
    "def viz_data_distribution(df:pd.DataFrame, column_name: str):\n",
    "\n",
    "    fig = px.histogram(df, x = column_name, color = 'Response')\n",
    "    fig.show()\n",
    "    #return fig"
   ]
  },
  {
   "cell_type": "code",
   "execution_count": null,
   "metadata": {},
   "outputs": [],
   "source": [
    "for col in model.model_settings['numerical_columns']:\n",
    "    viz_data_distribution(model.input_data, column_name=col)"
   ]
  },
  {
   "cell_type": "markdown",
   "metadata": {},
   "source": [
    "# Set Up LGBM Model"
   ]
  },
  {
   "cell_type": "code",
   "execution_count": null,
   "metadata": {},
   "outputs": [],
   "source": [
    "# MODEL SETTINGS\n",
    "\n",
    "model.model_settings['loss_function']='focal_loss' #Choose one from [focal_loss, log_loss]\n",
    "\n",
    "model.model_settings['n_iters_loss'] = 2\n",
    "model.model_settings['n_iters_hyperparams']= 2\n",
    "model.model_settings['n_iters_boost_rounds']= 2\n",
    "\n",
    "\n",
    "model.model_settings['optuna_eval_metric']='auc'\n",
    "model.model_settings['clibrate_while_tunning']= True\n",
    "\n",
    "model.model_settings['id_columns']= ['id']\n",
    "\n",
    "print(model.model_settings)"
   ]
  },
  {
   "cell_type": "code",
   "execution_count": null,
   "metadata": {},
   "outputs": [],
   "source": [
    "train, validate, test = src.load_and_split_data(model)"
   ]
  },
  {
   "cell_type": "code",
   "execution_count": null,
   "metadata": {},
   "outputs": [],
   "source": [
    "model.preprocessor = src.create_preprocessor(train,model.model_settings)"
   ]
  },
  {
   "cell_type": "markdown",
   "metadata": {},
   "source": [
    "# Tuning"
   ]
  },
  {
   "cell_type": "markdown",
   "metadata": {},
   "source": [
    "##### Para comparar\n",
    "+ logloss\n",
    "+ focal loss all-at-once-tuning\n",
    "+ focal loss two tunings and early stopping\n",
    "+ focal loss two tunings and no early stop (i.e. mean(best_round))\n",
    "+ focal loss two tunings and no early stop (i.e. mean(best_round)) calibrate while tunning"
   ]
  },
  {
   "cell_type": "markdown",
   "metadata": {},
   "source": [
    "### Tuning LogLoss"
   ]
  },
  {
   "cell_type": "code",
   "execution_count": null,
   "metadata": {},
   "outputs": [],
   "source": [
    "params = src.model_tuning_logloss(model, train, validate)"
   ]
  },
  {
   "cell_type": "markdown",
   "metadata": {},
   "source": [
    "### Tuning Focal Loss 1 step"
   ]
  },
  {
   "cell_type": "code",
   "execution_count": null,
   "metadata": {},
   "outputs": [],
   "source": [
    "params = src.model_tunning_focal_loss_1_step(model, train, validate)"
   ]
  },
  {
   "cell_type": "markdown",
   "metadata": {},
   "source": [
    "### Tuning Focal Loss 2 steps"
   ]
  },
  {
   "cell_type": "code",
   "execution_count": null,
   "metadata": {},
   "outputs": [],
   "source": [
    "params = src.model_tunning_focal_loss_2_steps(model, train, validate)"
   ]
  },
  {
   "cell_type": "markdown",
   "metadata": {},
   "source": [
    "# Training"
   ]
  },
  {
   "cell_type": "code",
   "execution_count": null,
   "metadata": {},
   "outputs": [],
   "source": []
  },
  {
   "cell_type": "markdown",
   "metadata": {},
   "source": [
    "# Evaluation"
   ]
  },
  {
   "cell_type": "code",
   "execution_count": null,
   "metadata": {},
   "outputs": [],
   "source": []
  }
 ],
 "metadata": {
  "interpreter": {
   "hash": "7c66585e33a18e30eb39e076f87172e6098c652c17667b0a37519dd2a3927b5b"
  },
  "kernelspec": {
   "display_name": "Python 3.9.7 ('litenv')",
   "name": "python3"
  },
  "language_info": {
   "codemirror_mode": {
    "name": "ipython",
    "version": 3
   },
   "file_extension": ".py",
   "mimetype": "text/x-python",
   "name": "python",
   "nbconvert_exporter": "python",
   "pygments_lexer": "ipython3",
   "version": "3.9.7"
  },
  "orig_nbformat": 4
 },
 "nbformat": 4,
 "nbformat_minor": 2
}
